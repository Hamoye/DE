{
  "nbformat": 4,
  "nbformat_minor": 0,
  "metadata": {
    "colab": {
      "provenance": []
    },
    "kernelspec": {
      "name": "python3",
      "display_name": "Python 3"
    },
    "language_info": {
      "name": "python"
    }
  },
  "cells": [
    {
      "cell_type": "markdown",
      "source": [
        "### Ridge and Lasso Regression with the Wine Quality Dataset\n",
        "\n",
        "**Objective**: Predict wine quality based on physicochemical properties using Ridge and Lasso regression techniques.\n",
        "\n",
        "**Dataset**: The Wine Quality dataset from the UCI Machine Learning Repository provides a good balance of features for regularization techniques. As previously mentioned, it can be found [here](https://archive.ics.uci.edu/ml/datasets/Wine+Quality)."
      ],
      "metadata": {
        "id": "W0JLFDFVS3J-"
      }
    },
    {
      "cell_type": "code",
      "source": [
        "# Import the necessary libraries for the task\n",
        "import pandas as pd\n",
        "from sklearn.model_selection import train_test_split, GridSearchCV\n",
        "from sklearn.linear_model import Ridge, Lasso, LinearRegression\n",
        "from sklearn.preprocessing import StandardScaler\n",
        "from sklearn.metrics import mean_squared_error, r2_score"
      ],
      "metadata": {
        "id": "Yh2O5TPbVkVh"
      },
      "execution_count": null,
      "outputs": []
    },
    {
      "cell_type": "code",
      "source": [
        "# Load the dataset\n",
        "data_url = \"https://raw.githubusercontent.com/HamoyeFoundation/DE/main/datasets/regression/winequality-red.csv\"\n",
        "\n",
        "data = pd.read_csv(data_url, delimiter=\";\")\n",
        "\n",
        "data.head()"
      ],
      "metadata": {
        "id": "3SjVQOY5VkyG"
      },
      "execution_count": null,
      "outputs": []
    },
    {
      "cell_type": "code",
      "source": [
        "# Explore the loaded dataset\n",
        "data.shape"
      ],
      "metadata": {
        "id": "5i7wP3n5Hn32"
      },
      "execution_count": null,
      "outputs": []
    },
    {
      "cell_type": "code",
      "source": [
        "data.info()"
      ],
      "metadata": {
        "id": "VDmK5A_sHySO"
      },
      "execution_count": null,
      "outputs": []
    },
    {
      "cell_type": "code",
      "source": [
        "data.isnull().sum()"
      ],
      "metadata": {
        "id": "AP7jOZ8zIBKY"
      },
      "execution_count": null,
      "outputs": []
    },
    {
      "cell_type": "code",
      "source": [
        "# Separate the target and features\n",
        "x = data.drop(columns=[\"quality\"])\n",
        "y = data[\"quality\"]"
      ],
      "metadata": {
        "id": "hvRDznQYVusg"
      },
      "execution_count": null,
      "outputs": []
    },
    {
      "cell_type": "code",
      "source": [
        "# Separate train and test dataset\n",
        "x_train, x_test, y_train, y_test = train_test_split(x, y, test_size=0.2, random_state=42)"
      ],
      "metadata": {
        "id": "uPygXlLLIqSo"
      },
      "execution_count": null,
      "outputs": []
    },
    {
      "cell_type": "code",
      "source": [
        "# Normalize the features dataset\n",
        "scaler = StandardScaler()\n",
        "scaler = scaler.fit(x_train)\n",
        "x_train_scaled = scaler.transform(x_train)\n",
        "x_test_scaled = scaler.transform(x_test)"
      ],
      "metadata": {
        "id": "UsfTjjoVI5Y7"
      },
      "execution_count": null,
      "outputs": []
    },
    {
      "cell_type": "code",
      "source": [
        "# Train the model with linear regression\n",
        "linear_reg = LinearRegression()\n",
        "linear_reg.fit(x_train_scaled, y_train)"
      ],
      "metadata": {
        "id": "cOxYtgOKVsfW"
      },
      "execution_count": null,
      "outputs": []
    },
    {
      "cell_type": "code",
      "source": [
        "# Set the hyperparameters\n",
        "params = {'alpha': [0.001, 0.01, 0.1, 1, 10, 100]}"
      ],
      "metadata": {
        "id": "thWlGXGqTyxr"
      },
      "execution_count": null,
      "outputs": []
    },
    {
      "cell_type": "code",
      "source": [
        "# Tune the hyperparameters for Ridge regression\n",
        "ridge = Ridge()\n",
        "ridge_cv = GridSearchCV(ridge, params, cv=5)\n",
        "ridge_cv.fit(x_train_scaled, y_train)\n",
        "\n",
        "print(f\"Best alpha for Ridge: {ridge_cv.best_params_['alpha']}\")"
      ],
      "metadata": {
        "id": "qKvXNe8RXtJU"
      },
      "execution_count": null,
      "outputs": []
    },
    {
      "cell_type": "code",
      "source": [
        "# Train model with the best alpha param\n",
        "ridge_best = Ridge(alpha=ridge_cv.best_params_['alpha']).fit(x_train_scaled, y_train)"
      ],
      "metadata": {
        "id": "bLB0jReSSpv8"
      },
      "execution_count": null,
      "outputs": []
    },
    {
      "cell_type": "code",
      "source": [
        "# Tune the hyperparameters for Lasso regression\n",
        "lasso = Lasso()\n",
        "lasso_cv = GridSearchCV(lasso, params, cv=5)\n",
        "lasso_cv.fit(x_train_scaled, y_train)\n",
        "print(f\"Best alpha for Lasso: {lasso_cv.best_params_['alpha']}\")"
      ],
      "metadata": {
        "id": "2t5obCcMX1dC"
      },
      "execution_count": null,
      "outputs": []
    },
    {
      "cell_type": "code",
      "source": [
        "# Train the model with the best alpha param\n",
        "lasso_best = Lasso(alpha=lasso_cv.best_params_['alpha']).fit(x_train_scaled, y_train)"
      ],
      "metadata": {
        "id": "1uKMEiFeTlfE"
      },
      "execution_count": null,
      "outputs": []
    },
    {
      "cell_type": "code",
      "source": [
        "# Evaluate the trained models\n",
        "linear_reg_mse = mean_squared_error(y_test, linear_reg.predict(x_test_scaled))\n",
        "ridge_mse = mean_squared_error(y_test, ridge_best.predict(x_test_scaled))\n",
        "lasso_mse = mean_squared_error(y_test, lasso_best.predict(x_test_scaled))\n",
        "\n",
        "print(f\"Linear Regression MSE: {linear_reg_mse}\")\n",
        "print(f\"Ridge Regression MSE: {ridge_mse}\")\n",
        "print(f\"Lasso Regression MSE: {lasso_mse}\")"
      ],
      "metadata": {
        "id": "0iexfLu4X5jv"
      },
      "execution_count": null,
      "outputs": []
    },
    {
      "cell_type": "code",
      "source": [
        "# Evaluate the trained models\n",
        "linear_reg_r2 = r2_score(y_test, linear_reg.predict(x_test_scaled))\n",
        "ridge_r2 = r2_score(y_test, ridge_best.predict(x_test_scaled))\n",
        "lasso_r2 = r2_score(y_test, lasso_best.predict(x_test_scaled))\n",
        "\n",
        "print(f\"Linear Regression R2 Score: {linear_reg_r2}\")\n",
        "print(f\"Ridge Regression R2 Score: {ridge_r2}\")\n",
        "print(f\"Lasso Regression R2 Score: {lasso_r2}\")"
      ],
      "metadata": {
        "id": "MYZuuOvtVOlP"
      },
      "execution_count": null,
      "outputs": []
    }
  ]
}